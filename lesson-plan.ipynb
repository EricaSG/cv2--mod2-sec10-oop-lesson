{
 "cells": [
  {
   "cell_type": "markdown",
   "metadata": {},
   "source": [
    "### Objectives\n",
    "YWBAT \n",
    "* design OOPs to optimize tasks"
   ]
  },
  {
   "cell_type": "markdown",
   "metadata": {},
   "source": [
    "# Creating an ORM\n",
    "ORMs are ways for us to interact with dbs using python (in our case). You can build them with other languages though such as javascript, scala, etc. \n",
    "\n",
    "To start building an ORM, open the my_class.py file\n",
    "* Create a class called MyDatabase\n",
    "* Then create an init method that takes in the connection information of your class\n",
    "    * in other words when you instantiate your object you should be able to connect to your database\n",
    "* Create methods for your class to\n",
    "    * query the tables in your database\n",
    "    * query all the information for a given table\n",
    "    * query the columns of a table\n",
    "* After this create a child class called Customers\n",
    "* Create methods to\n",
    "    * query all the information from the Customers class (but ideally this should be inherited from your parent class, so you really don't have to do this)\n",
    "    * query specific customers given a column and a value (you can pick)\n",
    "    * create your own function specific to the customers table\n",
    "* Create another class for a given table and write at least 3 methods"
   ]
  },
  {
   "cell_type": "markdown",
   "metadata": {},
   "source": [
    "Use Jupyter to import your file and test your methods\n",
    "\n",
    "Example\n",
    "\n",
    "```python\n",
    "my_db = MyDatabase(params)\n",
    "my_db.list_tables()\n",
    "```"
   ]
  },
  {
   "cell_type": "code",
   "execution_count": 1,
   "metadata": {},
   "outputs": [],
   "source": [
    "import sqlite3\n",
    "import numpy as np\n",
    "from importlib import reload"
   ]
  },
  {
   "cell_type": "markdown",
   "metadata": {},
   "source": [
    "```\n",
    "Object\n",
    "    |-Attributes\n",
    "    |-Methods\n",
    "```"
   ]
  }
 ],
 "metadata": {
  "kernelspec": {
   "display_name": "Python 3",
   "language": "python",
   "name": "python3"
  },
  "language_info": {
   "codemirror_mode": {
    "name": "ipython",
    "version": 3
   },
   "file_extension": ".py",
   "mimetype": "text/x-python",
   "name": "python",
   "nbconvert_exporter": "python",
   "pygments_lexer": "ipython3",
   "version": "3.6.0"
  }
 },
 "nbformat": 4,
 "nbformat_minor": 2
}
