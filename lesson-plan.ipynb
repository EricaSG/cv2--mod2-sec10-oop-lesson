{
 "cells": [
  {
   "cell_type": "markdown",
   "metadata": {},
   "source": [
    "### Questions\n",
    "* how to debug with print statements"
   ]
  },
  {
   "cell_type": "markdown",
   "metadata": {},
   "source": [
    "### Crap I USE\n",
    "* VSCODE\n",
    "* PYLINTER\n"
   ]
  },
  {
   "cell_type": "markdown",
   "metadata": {},
   "source": [
    "### Objectives\n",
    "YWBAT \n",
    "* design OOPs to optimize tasks"
   ]
  },
  {
   "cell_type": "markdown",
   "metadata": {},
   "source": [
    "### Outline\n",
    "* just get started with data"
   ]
  },
  {
   "cell_type": "code",
   "execution_count": 97,
   "metadata": {},
   "outputs": [
    {
     "data": {
      "text/plain": [
       "<module 'myconn' from '/Users/rafael/flatiron_dsc/curriculum-v2/section10/cv2--mod2-sec10-oop-lesson/myconn.py'>"
      ]
     },
     "execution_count": 97,
     "metadata": {},
     "output_type": "execute_result"
    }
   ],
   "source": [
    "from importlib import reload\n",
    "\n",
    "import numpy as np\n",
    "import pandas as pd\n",
    "import sqlite3\n",
    "\n",
    "import myconn as mc\n",
    "\n",
    "import matplotlib.pyplot as plt\n",
    "\n",
    "reload(mc)"
   ]
  },
  {
   "cell_type": "code",
   "execution_count": 98,
   "metadata": {},
   "outputs": [],
   "source": [
    "myconn = mc.MyConn(filename=\"data.sqlite\")"
   ]
  },
  {
   "cell_type": "code",
   "execution_count": 99,
   "metadata": {},
   "outputs": [],
   "source": [
    "cust = mc.Customers(filename='data.sqlite')"
   ]
  },
  {
   "cell_type": "code",
   "execution_count": 100,
   "metadata": {},
   "outputs": [
    {
     "data": {
      "text/plain": [
       "(('customerNumber', None, None, None, None, None, None),\n",
       " ('customerName', None, None, None, None, None, None),\n",
       " ('contactLastName', None, None, None, None, None, None),\n",
       " ('contactFirstName', None, None, None, None, None, None),\n",
       " ('phone', None, None, None, None, None, None),\n",
       " ('addressLine1', None, None, None, None, None, None),\n",
       " ('addressLine2', None, None, None, None, None, None),\n",
       " ('city', None, None, None, None, None, None),\n",
       " ('state', None, None, None, None, None, None),\n",
       " ('postalCode', None, None, None, None, None, None),\n",
       " ('country', None, None, None, None, None, None),\n",
       " ('salesRepEmployeeNumber', None, None, None, None, None, None),\n",
       " ('creditLimit', None, None, None, None, None, None))"
      ]
     },
     "execution_count": 100,
     "metadata": {},
     "output_type": "execute_result"
    }
   ],
   "source": [
    "cust.get_table_description()"
   ]
  },
  {
   "cell_type": "code",
   "execution_count": 77,
   "metadata": {},
   "outputs": [
    {
     "name": "stdout",
     "output_type": "stream",
     "text": [
      "orderdetails\n",
      "payments\n",
      "offices\n",
      "customers\n",
      "orders\n",
      "productlines\n",
      "products\n",
      "employees\n",
      "contacts\n",
      "contacts2\n"
     ]
    }
   ],
   "source": [
    "myconn.list_tables()"
   ]
  },
  {
   "cell_type": "code",
   "execution_count": 78,
   "metadata": {},
   "outputs": [
    {
     "name": "stdout",
     "output_type": "stream",
     "text": [
      "---no tablename in object, exception:---\n",
      "'MyConn' object has no attribute 'table_name'\n"
     ]
    },
    {
     "data": {
      "text/html": [
       "<div>\n",
       "<style scoped>\n",
       "    .dataframe tbody tr th:only-of-type {\n",
       "        vertical-align: middle;\n",
       "    }\n",
       "\n",
       "    .dataframe tbody tr th {\n",
       "        vertical-align: top;\n",
       "    }\n",
       "\n",
       "    .dataframe thead th {\n",
       "        text-align: right;\n",
       "    }\n",
       "</style>\n",
       "<table border=\"1\" class=\"dataframe\">\n",
       "  <thead>\n",
       "    <tr style=\"text-align: right;\">\n",
       "      <th></th>\n",
       "      <th>employeeNumber</th>\n",
       "      <th>lastName</th>\n",
       "      <th>firstName</th>\n",
       "      <th>extension</th>\n",
       "      <th>email</th>\n",
       "      <th>officeCode</th>\n",
       "      <th>reportsTo</th>\n",
       "      <th>jobTitle</th>\n",
       "    </tr>\n",
       "  </thead>\n",
       "  <tbody>\n",
       "    <tr>\n",
       "      <th>0</th>\n",
       "      <td>1002</td>\n",
       "      <td>Murphy</td>\n",
       "      <td>Diane</td>\n",
       "      <td>x5800</td>\n",
       "      <td>dmurphy@classicmodelcars.com</td>\n",
       "      <td>1</td>\n",
       "      <td></td>\n",
       "      <td>President</td>\n",
       "    </tr>\n",
       "    <tr>\n",
       "      <th>1</th>\n",
       "      <td>1056</td>\n",
       "      <td>Patterson</td>\n",
       "      <td>Mary</td>\n",
       "      <td>x4611</td>\n",
       "      <td>mpatterso@classicmodelcars.com</td>\n",
       "      <td>1</td>\n",
       "      <td>1002</td>\n",
       "      <td>VP Sales</td>\n",
       "    </tr>\n",
       "  </tbody>\n",
       "</table>\n",
       "</div>"
      ],
      "text/plain": [
       "  employeeNumber   lastName firstName extension  \\\n",
       "0           1002     Murphy     Diane     x5800   \n",
       "1           1056  Patterson      Mary     x4611   \n",
       "\n",
       "                            email officeCode reportsTo   jobTitle  \n",
       "0    dmurphy@classicmodelcars.com          1            President  \n",
       "1  mpatterso@classicmodelcars.com          1      1002   VP Sales  "
      ]
     },
     "execution_count": 78,
     "metadata": {},
     "output_type": "execute_result"
    }
   ],
   "source": [
    "myconn.load_table_as_df('employees').head(2)"
   ]
  },
  {
   "cell_type": "code",
   "execution_count": 79,
   "metadata": {},
   "outputs": [
    {
     "data": {
      "text/plain": [
       "'select * from customers'"
      ]
     },
     "execution_count": 79,
     "metadata": {},
     "output_type": "execute_result"
    }
   ],
   "source": [
    "cust.build_select_all_query()"
   ]
  },
  {
   "cell_type": "code",
   "execution_count": null,
   "metadata": {},
   "outputs": [],
   "source": []
  },
  {
   "cell_type": "code",
   "execution_count": 80,
   "metadata": {},
   "outputs": [
    {
     "name": "stdout",
     "output_type": "stream",
     "text": [
      "---no tablename in object, exception:---\n",
      "'MyConn' object has no attribute 'table_name'\n"
     ]
    },
    {
     "data": {
      "text/plain": [
       "'select * from None'"
      ]
     },
     "execution_count": 80,
     "metadata": {},
     "output_type": "execute_result"
    }
   ],
   "source": [
    "myconn.build_select_all_query()"
   ]
  },
  {
   "cell_type": "code",
   "execution_count": 81,
   "metadata": {},
   "outputs": [],
   "source": [
    "conn = sqlite3.connect('data.sqlite')\n",
    "cursor = conn.cursor()"
   ]
  },
  {
   "cell_type": "code",
   "execution_count": 82,
   "metadata": {},
   "outputs": [
    {
     "data": {
      "text/plain": [
       "<sqlite3.Cursor at 0x11bbaf490>"
      ]
     },
     "execution_count": 82,
     "metadata": {},
     "output_type": "execute_result"
    }
   ],
   "source": [
    "cursor.execute('select * from employees')"
   ]
  },
  {
   "cell_type": "code",
   "execution_count": 84,
   "metadata": {},
   "outputs": [
    {
     "data": {
      "text/plain": [
       "(('employeeNumber', None, None, None, None, None, None),\n",
       " ('lastName', None, None, None, None, None, None),\n",
       " ('firstName', None, None, None, None, None, None),\n",
       " ('extension', None, None, None, None, None, None),\n",
       " ('email', None, None, None, None, None, None),\n",
       " ('officeCode', None, None, None, None, None, None),\n",
       " ('reportsTo', None, None, None, None, None, None),\n",
       " ('jobTitle', None, None, None, None, None, None))"
      ]
     },
     "execution_count": 84,
     "metadata": {},
     "output_type": "execute_result"
    }
   ],
   "source": [
    "cursor.description"
   ]
  },
  {
   "cell_type": "code",
   "execution_count": 102,
   "metadata": {},
   "outputs": [],
   "source": [
    "emp = mc.Employees(filename='data.sqlite')"
   ]
  },
  {
   "cell_type": "code",
   "execution_count": 103,
   "metadata": {},
   "outputs": [
    {
     "data": {
      "text/plain": [
       "(('employeeNumber', None, None, None, None, None, None),\n",
       " ('lastName', None, None, None, None, None, None),\n",
       " ('firstName', None, None, None, None, None, None),\n",
       " ('extension', None, None, None, None, None, None),\n",
       " ('email', None, None, None, None, None, None),\n",
       " ('officeCode', None, None, None, None, None, None),\n",
       " ('reportsTo', None, None, None, None, None, None),\n",
       " ('jobTitle', None, None, None, None, None, None))"
      ]
     },
     "execution_count": 103,
     "metadata": {},
     "output_type": "execute_result"
    }
   ],
   "source": [
    "emp.get_table_description()"
   ]
  },
  {
   "cell_type": "markdown",
   "metadata": {},
   "source": [
    "### Assessment/What did we learn?\n",
    "* static methods\n",
    "* see the workflow for oop\n",
    "* try and except the baaaaassssttt\n",
    "* write good docstrings"
   ]
  },
  {
   "cell_type": "code",
   "execution_count": null,
   "metadata": {},
   "outputs": [],
   "source": []
  }
 ],
 "metadata": {
  "kernelspec": {
   "display_name": "Python 3",
   "language": "python",
   "name": "python3"
  },
  "language_info": {
   "codemirror_mode": {
    "name": "ipython",
    "version": 3
   },
   "file_extension": ".py",
   "mimetype": "text/x-python",
   "name": "python",
   "nbconvert_exporter": "python",
   "pygments_lexer": "ipython3",
   "version": "3.7.3"
  }
 },
 "nbformat": 4,
 "nbformat_minor": 2
}
